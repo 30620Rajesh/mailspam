{
 "cells": [
  {
   "cell_type": "code",
   "execution_count": null,
   "id": "91de5f6a",
   "metadata": {},
   "outputs": [],
   "source": [
    "import pandas as pd\n",
    "import numpy as np\n",
    "import warnings\n",
    "warnings.filterwarnings(\"ignore\")"
   ]
  },
  {
   "cell_type": "code",
   "execution_count": null,
   "id": "927a6493",
   "metadata": {},
   "outputs": [],
   "source": [
    "raw_mail_data = pd.read_csv(\"mail_data.csv\")"
   ]
  },
  {
   "cell_type": "code",
   "execution_count": null,
   "id": "ae71f8dc",
   "metadata": {},
   "outputs": [],
   "source": [
    "raw_mail_data.head()"
   ]
  },
  {
   "cell_type": "code",
   "execution_count": null,
   "id": "aa52d877",
   "metadata": {},
   "outputs": [],
   "source": [
    "from sklearn.model_selection import train_test_split\n",
    "from sklearn.feature_extraction.text import TfidfVectorizer\n",
    "from sklearn.metrics import accuracy_score"
   ]
  },
  {
   "cell_type": "code",
   "execution_count": null,
   "id": "8b505d44",
   "metadata": {},
   "outputs": [],
   "source": [
    "raw_mail_data.isnull().sum()"
   ]
  },
  {
   "cell_type": "code",
   "execution_count": null,
   "id": "e1e18caa",
   "metadata": {},
   "outputs": [],
   "source": [
    "df = raw_mail_data.where((pd.notnull(raw_mail_data)), '')"
   ]
  },
  {
   "cell_type": "code",
   "execution_count": null,
   "id": "122604a3",
   "metadata": {},
   "outputs": [],
   "source": [
    "df.isnull().sum()"
   ]
  },
  {
   "cell_type": "code",
   "execution_count": null,
   "id": "06e1b96e",
   "metadata": {},
   "outputs": [],
   "source": [
    "df.shape"
   ]
  },
  {
   "cell_type": "code",
   "execution_count": null,
   "id": "f587841f",
   "metadata": {},
   "outputs": [],
   "source": [
    "# Supervised -> target class\n",
    "# Unsupervised -> clustering problem\n",
    "\n",
    "# Label encoding"
   ]
  },
  {
   "cell_type": "code",
   "execution_count": null,
   "id": "6a821ad2",
   "metadata": {},
   "outputs": [],
   "source": [
    "df['Category'] = df['Category'].map({'spam': 0, 'ham': 1})"
   ]
  },
  {
   "cell_type": "code",
   "execution_count": null,
   "id": "77236b62",
   "metadata": {},
   "outputs": [],
   "source": [
    "df.head()"
   ]
  },
  {
   "cell_type": "code",
   "execution_count": null,
   "id": "8034b2f3",
   "metadata": {},
   "outputs": [],
   "source": [
    "# loc function"
   ]
  },
  {
   "cell_type": "code",
   "execution_count": null,
   "id": "111524dc",
   "metadata": {},
   "outputs": [],
   "source": [
    "df.loc[df['Category'] == 'spam', 'Category',] = 0\n",
    "df.loc[df['Category'] == 'ham', 'Category',] = 1"
   ]
  },
  {
   "cell_type": "code",
   "execution_count": null,
   "id": "8937bb7c",
   "metadata": {},
   "outputs": [],
   "source": [
    "df.head()"
   ]
  },
  {
   "cell_type": "code",
   "execution_count": null,
   "id": "decf6fed",
   "metadata": {},
   "outputs": [],
   "source": [
    "X = df['Message']\n",
    "Y = df['Category']"
   ]
  },
  {
   "cell_type": "code",
   "execution_count": null,
   "id": "7705df6a",
   "metadata": {},
   "outputs": [],
   "source": [
    "X"
   ]
  },
  {
   "cell_type": "code",
   "execution_count": null,
   "id": "3f13d080",
   "metadata": {},
   "outputs": [],
   "source": [
    "Y"
   ]
  },
  {
   "cell_type": "code",
   "execution_count": null,
   "id": "864701dd",
   "metadata": {},
   "outputs": [],
   "source": [
    "X_train, X_test, y_train, y_test = train_test_split(X,Y, test_size = 0.2, random_state = 42)"
   ]
  },
  {
   "cell_type": "code",
   "execution_count": null,
   "id": "a25cb53f",
   "metadata": {},
   "outputs": [],
   "source": [
    "X_train.shape"
   ]
  },
  {
   "cell_type": "code",
   "execution_count": null,
   "id": "a6fecffe",
   "metadata": {},
   "outputs": [],
   "source": [
    "y_train.shape"
   ]
  },
  {
   "cell_type": "code",
   "execution_count": null,
   "id": "042deb93",
   "metadata": {},
   "outputs": [],
   "source": [
    "X_test.shape"
   ]
  },
  {
   "cell_type": "code",
   "execution_count": null,
   "id": "c32c595b",
   "metadata": {},
   "outputs": [],
   "source": [
    "feature_extraction = TfidfVectorizer(min_df = 2, stop_words=\"english\", binary=True, max_df=0.95)\n",
    "X_train_features = feature_extraction.fit_transform(X_train)\n",
    "X_test_features = feature_extraction.transform(X_test)"
   ]
  },
  {
   "cell_type": "code",
   "execution_count": null,
   "id": "19efa253",
   "metadata": {},
   "outputs": [],
   "source": [
    "df.info()"
   ]
  },
  {
   "cell_type": "code",
   "execution_count": null,
   "id": "67f8118b",
   "metadata": {},
   "outputs": [],
   "source": [
    "y_train = y_train.astype(\"int\")\n",
    "y_test = y_test.astype(\"int\")"
   ]
  },
  {
   "cell_type": "code",
   "execution_count": null,
   "id": "9d73dd32",
   "metadata": {},
   "outputs": [],
   "source": [
    "X_train"
   ]
  },
  {
   "cell_type": "code",
   "execution_count": null,
   "id": "4d9d6965",
   "metadata": {},
   "outputs": [],
   "source": [
    "print(X_train_features)"
   ]
  },
  {
   "cell_type": "code",
   "execution_count": null,
   "id": "3403e2e8",
   "metadata": {},
   "outputs": [],
   "source": [
    "print(X_test_features)"
   ]
  },
  {
   "cell_type": "code",
   "execution_count": null,
   "id": "20cbedd9",
   "metadata": {},
   "outputs": [],
   "source": [
    "from sklearn.linear_model import LogisticRegression\n",
    "from sklearn.metrics import accuracy_score, f1_score, recall_score, precision_score, confusion_matrix\n",
    "import matplotlib.pyplot as plt \n",
    "import seaborn as sns \n",
    "model = LogisticRegression()\n",
    "model.fit(X_train_features, y_train)"
   ]
  },
  {
   "cell_type": "code",
   "execution_count": null,
   "id": "db00a849",
   "metadata": {},
   "outputs": [],
   "source": [
    "prediction_train_data = model.predict(X_train_features)\n",
    "\n",
    "# Calculate accuracy, F1 score, recall, precision, and confusion matrix\n",
    "accuracy_train_data = accuracy_score(y_train, prediction_train_data)\n",
    "f1 = f1_score(y_train, prediction_train_data, average='binary')  # Use 'macro' or 'weighted' if multiclass\n",
    "recall = recall_score(y_train, prediction_train_data, average='binary')\n",
    "precision = precision_score(y_train, prediction_train_data, average='binary')\n"
   ]
  },
  {
   "cell_type": "code",
   "execution_count": null,
   "id": "1a6b2d19",
   "metadata": {},
   "outputs": [],
   "source": [
    "print(f\"Accuracy: {accuracy_train_data}\")\n",
    "print(f\"F1 Score: {f1}\")\n",
    "print(f\"Recall: {recall}\")\n",
    "print(f\"Precision: {precision}\")\n",
    "\n"
   ]
  },
  {
   "cell_type": "code",
   "execution_count": null,
   "id": "ede99041",
   "metadata": {},
   "outputs": [],
   "source": [
    "conf_matrix = confusion_matrix(y_train, prediction_train_data)\n",
    "print(f\"Confusion Matrix:\\n{conf_matrix}\")\n",
    "\n",
    "# Plot the confusion matrix as a heatmap\n",
    "plt.figure(figsize=(6, 5))\n",
    "sns.heatmap(conf_matrix, annot=True, fmt='g', cmap='Blues', cbar=False, \n",
    "            xticklabels=['Predicted Negative', 'Predicted Positive'],\n",
    "            yticklabels=['Actual Negative', 'Actual Positive'])\n",
    "plt.xlabel('Predicted')\n",
    "plt.ylabel('Actual')\n",
    "plt.title('Confusion Matrix')\n",
    "plt.show()"
   ]
  },
  {
   "cell_type": "markdown",
   "id": "d834ff97",
   "metadata": {},
   "source": []
  },
  {
   "cell_type": "code",
   "execution_count": null,
   "id": "24b685f2",
   "metadata": {},
   "outputs": [],
   "source": [
    "prediction_test_data = model.predict(X_test_features)\n",
    "accuracy_test_data = accuracy_score(y_test, prediction_test_data)"
   ]
  },
  {
   "cell_type": "code",
   "execution_count": null,
   "id": "2207d645",
   "metadata": {},
   "outputs": [],
   "source": [
    "print(\"Accuarcy on test data: \", accuracy_test_data)"
   ]
  },
  {
   "cell_type": "code",
   "execution_count": null,
   "id": "6cf29636",
   "metadata": {},
   "outputs": [],
   "source": [
    "# Building predictive system"
   ]
  },
  {
   "cell_type": "code",
   "execution_count": null,
   "id": "6214274f",
   "metadata": {},
   "outputs": [],
   "source": [
    "# input_user_mail = [\"Hello, sir my name is Sanja. I am from Nepal. I am a student of computer science. I am in 3rd year of my degree. I am looking for a job. If you are interested, please contact me. My email is 6ZQ4D@example.com\"]\n",
    "input_user_mail = [\"You have won I phone 15 pro\"]\n",
    "# input_user_mail = [\"SIX chances to win CASH! From 100 to 20,000 pounds txt> CSH11 and send to 87575. Cost 150p/day, 6days, 16+ TsandCs apply Reply HL 4 info\"]\n",
    "\n",
    "input_data_features = feature_extraction.transform(input_user_mail)\n",
    "\n",
    "prediction = model.predict(input_data_features)\n",
    "\n",
    "if prediction[0] == 1:\n",
    "    print(\"This is a ham mail\")\n",
    "else:\n",
    "    print(\"This is a spam mail\")"
   ]
  },
  {
   "cell_type": "code",
   "execution_count": null,
   "id": "3e21749b",
   "metadata": {},
   "outputs": [],
   "source": [
    "# import pickle\n",
    "# pickle.dump(model, open(\"logistic_regression.pkl\", \"wb\"))\n",
    "# pickle.dump(feature_extraction, open(\"feature_extraction.pkl\", \"wb\"))"
   ]
  },
  {
   "cell_type": "code",
   "execution_count": null,
   "id": "ace1665b",
   "metadata": {},
   "outputs": [],
   "source": [
    "import pandas as pd\n",
    "import numpy as np\n",
    "import warnings\n",
    "import matplotlib.pyplot as plt\n",
    "import seaborn as sns\n",
    "from sklearn.model_selection import train_test_split\n",
    "from sklearn.feature_extraction.text import TfidfVectorizer\n",
    "from sklearn.linear_model import LogisticRegression\n",
    "from sklearn.metrics import accuracy_score, f1_score, recall_score, precision_score, confusion_matrix, roc_curve, auc\n",
    "\n",
    "# Suppress warnings\n",
    "warnings.filterwarnings(\"ignore\")\n",
    "\n",
    "# Load and preview the dataset\n",
    "raw_mail_data = pd.read_csv(\"mail_data.csv\")\n",
    "raw_mail_data.head()\n",
    "\n",
    "# Check for missing values\n",
    "raw_mail_data.isnull().sum()\n",
    "\n",
    "# Handle missing data by replacing with empty strings\n",
    "df = raw_mail_data.where(pd.notnull(raw_mail_data), '')\n",
    "df.isnull().sum()\n",
    "\n",
    "# Encode target variable (spam: 0, ham: 1)\n",
    "df['Category'] = df['Category'].map({'spam': 0, 'ham': 1})\n",
    "df.head()\n",
    "\n",
    "# Feature extraction and target variable\n",
    "X = df['Message']\n",
    "Y = df['Category']\n",
    "\n",
    "# Split the data into training and testing sets\n",
    "X_train, X_test, y_train, y_test = train_test_split(X, Y, test_size=0.2, random_state=42)\n",
    "\n",
    "# TF-IDF Vectorizer\n",
    "feature_extraction = TfidfVectorizer(min_df=2, stop_words=\"english\", binary=True, max_df=0.95)\n",
    "X_train_features = feature_extraction.fit_transform(X_train)\n",
    "X_test_features = feature_extraction.transform(X_test)\n",
    "\n",
    "# Train the logistic regression model\n",
    "model = LogisticRegression()\n",
    "model.fit(X_train_features, y_train)\n",
    "\n",
    "# Predictions on training data\n",
    "prediction_train_data = model.predict(X_train_features)\n",
    "\n",
    "# Calculate accuracy, F1 score, recall, precision, and confusion matrix\n",
    "accuracy_train_data = accuracy_score(y_train, prediction_train_data)\n",
    "f1 = f1_score(y_train, prediction_train_data, average='binary')\n",
    "recall = recall_score(y_train, prediction_train_data, average='binary')\n",
    "precision = precision_score(y_train, prediction_train_data, average='binary')\n",
    "conf_matrix = confusion_matrix(y_train, prediction_train_data)\n",
    "\n",
    "# Print evaluation metrics\n",
    "print(f\"Accuracy: {accuracy_train_data}\")\n",
    "print(f\"F1 Score: {f1}\")\n",
    "print(f\"Recall: {recall}\")\n",
    "print(f\"Precision: {precision}\")\n",
    "print(f\"Confusion Matrix:\\n{conf_matrix}\")\n",
    "\n",
    "# Display metrics in a DataFrame (table format)\n",
    "metrics_df = pd.DataFrame({\n",
    "    'Metric': ['F1 Score', 'Recall', 'Precision'],\n",
    "    'Value': [f1, recall, precision]\n",
    "})\n",
    "print(\"\\nPerformance Metrics:\\n\")\n",
    "print(metrics_df)\n",
    "\n",
    "# Plot the confusion matrix as a heatmap\n",
    "plt.figure(figsize=(6, 5))\n",
    "sns.heatmap(conf_matrix, annot=True, fmt='g', cmap='Blues', cbar=False, \n",
    "            xticklabels=['Predicted Negative', 'Predicted Positive'],\n",
    "            yticklabels=['Actual Negative', 'Actual Positive'])\n",
    "plt.xlabel('Predicted')\n",
    "plt.ylabel('Actual')\n",
    "plt.title('Confusion Matrix')\n",
    "plt.show()\n",
    "\n",
    "# Compute ROC curve and AUC\n",
    "fpr, tpr, thresholds = roc_curve(y_train, model.predict_proba(X_train_features)[:, 1])\n",
    "roc_auc = auc(fpr, tpr)\n",
    "\n",
    "# Plot ROC curve\n",
    "plt.figure(figsize=(6, 5))\n",
    "plt.plot(fpr, tpr, color='blue', lw=2, label=f'ROC curve (AUC = {roc_auc:.2f})')\n",
    "plt.plot([0, 1], [0, 1], color='gray', linestyle='--')  # Diagonal line (no skill)\n",
    "plt.xlabel('False Positive Rate')\n",
    "plt.ylabel('True Positive Rate')\n",
    "plt.title('Receiver Operating Characteristic (ROC) Curve')\n",
    "plt.legend(loc='lower right')\n",
    "plt.show()\n",
    "\n",
    "# Evaluate on test data\n",
    "prediction_test_data = model.predict(X_test_features)\n",
    "accuracy_test_data = accuracy_score(y_test, prediction_test_data)\n",
    "print(f\"Accuracy on test data: {accuracy_test_data}\")\n",
    "\n",
    "# Example for prediction on user input\n",
    "input_user_mail = [\"You have won I phone 15 pro\"]\n",
    "input_data_features = feature_extraction.transform(input_user_mail)\n",
    "prediction = model.predict(input_data_features)\n",
    "\n",
    "if prediction[0] == 1:\n",
    "    print(\"This is a ham mail\")\n",
    "else:\n",
    "    print(\"This is a spam mail\")\n",
    "\n"
   ]
  },
  {
   "cell_type": "code",
   "execution_count": null,
   "id": "9bc20c9a",
   "metadata": {},
   "outputs": [],
   "source": []
  },
  {
   "cell_type": "code",
   "execution_count": null,
   "id": "049fcbe4",
   "metadata": {},
   "outputs": [],
   "source": []
  },
  {
   "cell_type": "code",
   "execution_count": null,
   "id": "4674568a",
   "metadata": {},
   "outputs": [],
   "source": []
  },
  {
   "cell_type": "code",
   "execution_count": null,
   "id": "7c67a7ac",
   "metadata": {},
   "outputs": [],
   "source": []
  },
  {
   "cell_type": "code",
   "execution_count": null,
   "id": "3ea16d72",
   "metadata": {},
   "outputs": [],
   "source": []
  },
  {
   "cell_type": "code",
   "execution_count": null,
   "id": "0cd01bb7",
   "metadata": {},
   "outputs": [],
   "source": []
  },
  {
   "cell_type": "code",
   "execution_count": null,
   "id": "cb952a91",
   "metadata": {},
   "outputs": [],
   "source": []
  }
 ],
 "metadata": {
  "kernelspec": {
   "display_name": "Python 3",
   "language": "python",
   "name": "python3"
  },
  "language_info": {
   "codemirror_mode": {
    "name": "ipython",
    "version": 3
   },
   "file_extension": ".py",
   "mimetype": "text/x-python",
   "name": "python",
   "nbconvert_exporter": "python",
   "pygments_lexer": "ipython3",
   "version": "3.11.3"
  }
 },
 "nbformat": 4,
 "nbformat_minor": 5
}
